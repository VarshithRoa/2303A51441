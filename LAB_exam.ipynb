{
  "nbformat": 4,
  "nbformat_minor": 0,
  "metadata": {
    "colab": {
      "provenance": [],
      "authorship_tag": "ABX9TyPHUD9twH+Czm3GQXKv/RHU",
      "include_colab_link": true
    },
    "kernelspec": {
      "name": "python3",
      "display_name": "Python 3"
    },
    "language_info": {
      "name": "python"
    }
  },
  "cells": [
    {
      "cell_type": "markdown",
      "metadata": {
        "id": "view-in-github",
        "colab_type": "text"
      },
      "source": [
        "<a href=\"https://colab.research.google.com/github/VarshithRoa/2303A51441/blob/main/LAB_exam.ipynb\" target=\"_parent\"><img src=\"https://colab.research.google.com/assets/colab-badge.svg\" alt=\"Open In Colab\"/></a>"
      ]
    },
    {
      "cell_type": "code",
      "execution_count": 11,
      "metadata": {
        "colab": {
          "base_uri": "https://localhost:8080/"
        },
        "id": "GO1g4n7Hb9sX",
        "outputId": "540582e8-8a81-456f-f9f9-721a18cd5ddb"
      },
      "outputs": [
        {
          "output_type": "stream",
          "name": "stdout",
          "text": [
            "Requirement already satisfied: openml in /usr/local/lib/python3.10/dist-packages (0.15.0)\n",
            "Requirement already satisfied: liac-arff>=2.4.0 in /usr/local/lib/python3.10/dist-packages (from openml) (2.5.0)\n",
            "Requirement already satisfied: xmltodict in /usr/local/lib/python3.10/dist-packages (from openml) (0.14.2)\n",
            "Requirement already satisfied: requests in /usr/local/lib/python3.10/dist-packages (from openml) (2.32.3)\n",
            "Requirement already satisfied: scikit-learn>=0.18 in /usr/local/lib/python3.10/dist-packages (from openml) (1.5.2)\n",
            "Requirement already satisfied: python-dateutil in /usr/local/lib/python3.10/dist-packages (from openml) (2.8.2)\n",
            "Requirement already satisfied: pandas>=1.0.0 in /usr/local/lib/python3.10/dist-packages (from openml) (2.2.2)\n",
            "Requirement already satisfied: scipy>=0.13.3 in /usr/local/lib/python3.10/dist-packages (from openml) (1.13.1)\n",
            "Requirement already satisfied: numpy>=1.6.2 in /usr/local/lib/python3.10/dist-packages (from openml) (1.26.4)\n",
            "Requirement already satisfied: minio in /usr/local/lib/python3.10/dist-packages (from openml) (7.2.11)\n",
            "Requirement already satisfied: pyarrow in /usr/local/lib/python3.10/dist-packages (from openml) (17.0.0)\n",
            "Requirement already satisfied: tqdm in /usr/local/lib/python3.10/dist-packages (from openml) (4.66.6)\n",
            "Requirement already satisfied: packaging in /usr/local/lib/python3.10/dist-packages (from openml) (24.2)\n",
            "Requirement already satisfied: pytz>=2020.1 in /usr/local/lib/python3.10/dist-packages (from pandas>=1.0.0->openml) (2024.2)\n",
            "Requirement already satisfied: tzdata>=2022.7 in /usr/local/lib/python3.10/dist-packages (from pandas>=1.0.0->openml) (2024.2)\n",
            "Requirement already satisfied: six>=1.5 in /usr/local/lib/python3.10/dist-packages (from python-dateutil->openml) (1.16.0)\n",
            "Requirement already satisfied: joblib>=1.2.0 in /usr/local/lib/python3.10/dist-packages (from scikit-learn>=0.18->openml) (1.4.2)\n",
            "Requirement already satisfied: threadpoolctl>=3.1.0 in /usr/local/lib/python3.10/dist-packages (from scikit-learn>=0.18->openml) (3.5.0)\n",
            "Requirement already satisfied: certifi in /usr/local/lib/python3.10/dist-packages (from minio->openml) (2024.8.30)\n",
            "Requirement already satisfied: urllib3 in /usr/local/lib/python3.10/dist-packages (from minio->openml) (2.2.3)\n",
            "Requirement already satisfied: argon2-cffi in /usr/local/lib/python3.10/dist-packages (from minio->openml) (23.1.0)\n",
            "Requirement already satisfied: pycryptodome in /usr/local/lib/python3.10/dist-packages (from minio->openml) (3.21.0)\n",
            "Requirement already satisfied: typing-extensions in /usr/local/lib/python3.10/dist-packages (from minio->openml) (4.12.2)\n",
            "Requirement already satisfied: charset-normalizer<4,>=2 in /usr/local/lib/python3.10/dist-packages (from requests->openml) (3.4.0)\n",
            "Requirement already satisfied: idna<4,>=2.5 in /usr/local/lib/python3.10/dist-packages (from requests->openml) (3.10)\n",
            "Requirement already satisfied: argon2-cffi-bindings in /usr/local/lib/python3.10/dist-packages (from argon2-cffi->minio->openml) (21.2.0)\n",
            "Requirement already satisfied: cffi>=1.0.1 in /usr/local/lib/python3.10/dist-packages (from argon2-cffi-bindings->argon2-cffi->minio->openml) (1.17.1)\n",
            "Requirement already satisfied: pycparser in /usr/local/lib/python3.10/dist-packages (from cffi>=1.0.1->argon2-cffi-bindings->argon2-cffi->minio->openml) (2.22)\n",
            "       V1      V2         V3         V4      V5    V6     V7        V8  V9  \\\n",
            "0    42.0    50.0   270900.0   270944.0   267.0  17.0   44.0   24220.0  76   \n",
            "1   645.0   651.0  2538079.0  2538108.0   108.0  10.0   30.0   11397.0  84   \n",
            "2   829.0   835.0  1553913.0  1553931.0    71.0   8.0   19.0    7972.0  99   \n",
            "3   853.0   860.0   369370.0   369415.0   176.0  13.0   45.0   18996.0  99   \n",
            "4  1289.0  1306.0   498078.0   498335.0  2409.0  60.0  260.0  246930.0  37   \n",
            "\n",
            "   V10  ...     V19     V20  V21     V22     V23     V24     V25     V26  \\\n",
            "0  108  ...  0.4706  1.0000  1.0  2.4265  0.9031  1.6435  0.8182 -0.2913   \n",
            "1  123  ...  0.6000  0.9667  1.0  2.0334  0.7782  1.4624  0.7931 -0.1756   \n",
            "2  125  ...  0.7500  0.9474  1.0  1.8513  0.7782  1.2553  0.6667 -0.1228   \n",
            "3  126  ...  0.5385  1.0000  1.0  2.2455  0.8451  1.6532  0.8444 -0.1568   \n",
            "4  126  ...  0.2833  0.9885  1.0  3.3818  1.2305  2.4099  0.9338 -0.1992   \n",
            "\n",
            "      V27  target  \n",
            "0  0.5822  Pastry  \n",
            "1  0.2984  Pastry  \n",
            "2  0.2150  Pastry  \n",
            "3  0.5212  Pastry  \n",
            "4  1.0000  Pastry  \n",
            "\n",
            "[5 rows x 28 columns]\n",
            "Accuracy: 42.93%\n",
            "Confusion Matrix:\n",
            "[[52  4  0  0  5  1 10]\n",
            " [ 6  0  0  0  0  0  2]\n",
            " [ 7  0 55  9  2  1  9]\n",
            " [78  3  4 15  4  9 30]\n",
            " [26  0  1  1  0  1  0]\n",
            " [ 0  0  0  0  0 12  1]\n",
            " [ 1  0  0  1  0  6 33]]\n"
          ]
        }
      ],
      "source": [
        "#  import the necessary libraries\n",
        "!pip install openml # Install the openml library if you haven't already\n",
        "import openml\n",
        "import pandas as pd\n",
        "from sklearn.model_selection import train_test_split\n",
        "from sklearn.naive_bayes import GaussianNB\n",
        "from sklearn.preprocessing import LabelEncoder\n",
        "from sklearn.metrics import accuracy_score, confusion_matrix\n",
        "\n",
        "# Load the dataset from OpenML\n",
        "# Load the Car Evaluation dataset\n",
        "car_data = openml.datasets.get_dataset(40982)\n",
        "df, *_ = car_data.get_data()\n",
        "\n",
        "#  Inspect the dataset\n",
        "print(df.head())\n",
        "\n",
        "#Data preprocessing\n",
        "# The dataset consists of categorical variables, so we need to encode them\n",
        "# Apply label encoding to convert categorical variables to numerical values\n",
        "label_encoder = LabelEncoder()\n",
        "\n",
        "# Apply label encoding to all columns that are of object (categorical) type\n",
        "for column in df.columns:\n",
        "    if df[column].dtype == 'object':\n",
        "        df[column] = label_encoder.fit_transform(df[column])\n",
        "\n",
        "#  Split data into features (X) and target (y)\n",
        "X = df.drop('target', axis=1)  # Features\n",
        "y = df['target']  # Target variable (the class to predict)\n",
        "\n",
        "# Split the data into training and test sets\n",
        "X_train, X_test, y_train, y_test = train_test_split(X, y, test_size=0.2, random_state=42)\n",
        "\n",
        "# Initialize and train the Naive Bayes classifier\n",
        "nb = GaussianNB()\n",
        "nb.fit(X_train, y_train)\n",
        "\n",
        "# Step 8: Make predictions\n",
        "y_pred = nb.predict(X_test)\n",
        "\n",
        "#  Evaluate the model\n",
        "accuracy = accuracy_score(y_test, y_pred)\n",
        "conf_matrix = confusion_matrix(y_test, y_pred)\n",
        "\n",
        "print(f'Accuracy: {accuracy * 100:.2f}%')\n",
        "print('Confusion Matrix:')\n",
        "print(conf_matrix)"
      ]
    }
  ]
}